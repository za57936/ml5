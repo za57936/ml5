{
 "cells": [
  {
   "cell_type": "code",
   "execution_count": 28,
   "metadata": {},
   "outputs": [],
   "source": [
    "import numpy as np    #importing packages\n",
    "import pandas as pd  \n",
    "import matplotlib.pyplot as plt  #importing matplotlib\n",
    "import seaborn as sns  #importing seaborn\n",
    "from sklearn.model_selection import train_test_split   #importing sklearn packages\n",
    "from sklearn.preprocessing import StandardScaler  \n",
    "from sklearn import datasets  \n",
    "from sklearn.ensemble import RandomForestRegressor\n",
    "from sklearn.metrics import r2_score"
   ]
  },
  {
   "cell_type": "code",
   "execution_count": 29,
   "metadata": {},
   "outputs": [
    {
     "name": "stdout",
     "output_type": "stream",
     "text": [
      "      CRIM    ZN  INDUS  CHAS    NOX     RM   AGE     DIS  RAD    TAX  \\\n",
      "0  0.00632  18.0   2.31   0.0  0.538  6.575  65.2  4.0900  1.0  296.0   \n",
      "1  0.02731   0.0   7.07   0.0  0.469  6.421  78.9  4.9671  2.0  242.0   \n",
      "2  0.02729   0.0   7.07   0.0  0.469  7.185  61.1  4.9671  2.0  242.0   \n",
      "3  0.03237   0.0   2.18   0.0  0.458  6.998  45.8  6.0622  3.0  222.0   \n",
      "4  0.06905   0.0   2.18   0.0  0.458  7.147  54.2  6.0622  3.0  222.0   \n",
      "\n",
      "   PTRATIO       B  LSTAT  PRICE  \n",
      "0     15.3  396.90   4.98   24.0  \n",
      "1     17.8  396.90   9.14   21.6  \n",
      "2     17.8  392.83   4.03   34.7  \n",
      "3     18.7  394.63   2.94   33.4  \n",
      "4     18.7  396.90   5.33   36.2  \n"
     ]
    }
   ],
   "source": [
    "boston = datasets.load_boston()    #loading dataset\n",
    "features = pd.DataFrame(boston.data, columns=boston.feature_names)    #renaming columns with feature names\n",
    "targets = boston.target     #getting the target column\n",
    "bos = pd.DataFrame(boston.data)     #loading data into bos dataframe\n",
    "bos.columns = boston.feature_names     #renaming the columns\n",
    "bos['PRICE'] = boston.target      #adding price column\n",
    "print(bos.head())    #displaying the top 5 records"
   ]
  },
  {
   "cell_type": "code",
   "execution_count": 30,
   "metadata": {},
   "outputs": [
    {
     "data": {
      "text/plain": [
       "RandomForestRegressor(bootstrap=True, criterion='mse', max_depth=None,\n",
       "           max_features='auto', max_leaf_nodes=None,\n",
       "           min_impurity_decrease=0.0, min_impurity_split=None,\n",
       "           min_samples_leaf=1, min_samples_split=2,\n",
       "           min_weight_fraction_leaf=0.0, n_estimators=100, n_jobs=1,\n",
       "           oob_score=False, random_state=0, verbose=0, warm_start=False)"
      ]
     },
     "execution_count": 30,
     "metadata": {},
     "output_type": "execute_result"
    }
   ],
   "source": [
    "X = bos.iloc[:, :-1].values     #differentiating independent features & storing them in X \n",
    "y = bos.iloc[:, -1].values      #differentiating dependent features from dataframe & storing them in Y\n",
    "#Splitting dataset into Training set & Test set\n",
    "X_train, X_test, y_train, y_test = train_test_split(X, y, test_size = 0.2, random_state = 3)\n",
    "sc = StandardScaler()    #creating instance of StandardScaler\n",
    "X_train = sc.fit_transform(X_train)      #normalizing train input dataset\n",
    "X_test = sc.transform(X_test)      #normalizing test input dataset\n",
    "regressor = RandomForestRegressor(n_estimators=100,random_state=0)    #creating instance of RandomForestRegressor model\n",
    "regressor.fit(X_train,y_train)      #fitting training dataset into model"
   ]
  },
  {
   "cell_type": "code",
   "execution_count": 31,
   "metadata": {},
   "outputs": [
    {
     "name": "stdout",
     "output_type": "stream",
     "text": [
      "90.81940932283322\n"
     ]
    }
   ],
   "source": [
    "y_pred = regressor.predict(X_test)    #predicting testset output from model & storing them in y_pred\n",
    "score=r2_score(y_test,y_pred)     #calculating accuracy of model using r2_score \n",
    "print(score*100)   #printing accuracy score"
   ]
  },
  {
   "cell_type": "code",
   "execution_count": 33,
   "metadata": {},
   "outputs": [
    {
     "data": {
      "image/png": "[encoded data removed]",
      "text/plain": [
       "<Figure size 432x288 with 1 Axes>"
      ]
     },
     "metadata": {
      "needs_background": "light"
     },
     "output_type": "display_data"
    }
   ],
   "source": [
    "plt.scatter(y_test,y_pred,color='blue')     #plotting expected value v/s predicted value\n",
    "plt.title('Expected value v/s Predicted value')     #setting title,labels to plot\n",
    "plt.xlabel('Expected value')\n",
    "plt.ylabel('Predicted value')\n",
    "plt.show()     #displaying plot"
   ]
  },
  {
   "cell_type": "code",
   "execution_count": 12,
   "metadata": {},
   "outputs": [],
   "source": []
  },
  {
   "cell_type": "code",
   "execution_count": null,
   "metadata": {},
   "outputs": [],
   "source": []
  },
  {
   "cell_type": "code",
   "execution_count": null,
   "metadata": {},
   "outputs": [],
   "source": []
  },
  {
   "cell_type": "code",
   "execution_count": null,
   "metadata": {},
   "outputs": [],
   "source": []
  }
 ],
 "metadata": {
  "kernelspec": {
   "display_name": "Python 3",
   "language": "python",
   "name": "python3"
  },
  "language_info": {
   "codemirror_mode": {
    "name": "ipython",
    "version": 3
   },
   "file_extension": ".py",
   "mimetype": "text/x-python",
   "name": "python",
   "nbconvert_exporter": "python",
   "pygments_lexer": "ipython3",
   "version": "3.7.0"
  }
 },
 "nbformat": 4,
 "nbformat_minor": 2
}
